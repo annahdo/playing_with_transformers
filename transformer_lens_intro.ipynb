{
 "cells": [
  {
   "cell_type": "markdown",
   "metadata": {},
   "source": [
    "# Intro to how transformer lens works\n",
    "\n",
    "This notebook shows how to access and modify internal model activations using the transformer lens library (version transformer_lens-1.8.1)."
   ]
  },
  {
   "cell_type": "code",
   "execution_count": 1,
   "metadata": {},
   "outputs": [],
   "source": [
    "import torch\n",
    "from transformer_lens import HookedTransformer\n",
    "from transformers import AutoTokenizer, AutoModelForCausalLM"
   ]
  },
  {
   "cell_type": "code",
   "execution_count": 2,
   "metadata": {},
   "outputs": [
    {
     "name": "stdout",
     "output_type": "stream",
     "text": [
      "Using device: cuda\n"
     ]
    }
   ],
   "source": [
    "device = torch.device(\"cuda\" if torch.cuda.is_available() else \"cpu\")\n",
    "print(f\"Using device: {device}\")\n",
    "dtype = torch.bfloat16\n",
    "# we want the padding side to be left as we want an easy way to access the last token\n",
    "padding_side = \"left\""
   ]
  },
  {
   "cell_type": "markdown",
   "metadata": {},
   "source": [
    "### Load model"
   ]
  },
  {
   "cell_type": "code",
   "execution_count": 7,
   "metadata": {},
   "outputs": [
    {
     "data": {
      "application/vnd.jupyter.widget-view+json": {
       "model_id": "4f3ad529bc8a443f81d063b64ded422f",
       "version_major": 2,
       "version_minor": 0
      },
      "text/plain": [
       "Loading checkpoint shards:   0%|          | 0/2 [00:00<?, ?it/s]"
      ]
     },
     "metadata": {},
     "output_type": "display_data"
    }
   ],
   "source": [
    "# load model'meta-llama/Llama-2-7b-hf'meta-llama/Llama-2-7b-chat-hf\n",
    "model_name = \"llama-7b\"\n",
    "model_path = f\"huggyllama/{model_name}\"\n",
    "org_model = AutoModelForCausalLM.from_pretrained(model_path).to(device, dtype=dtype)\n",
    "# load tokenizer\n",
    "tokenizer = AutoTokenizer.from_pretrained(model_path)\n",
    "tokenizer.padding_side = padding_side\n",
    "\n",
    "tokenizer.pad_token = tokenizer.eos_token"
   ]
  },
  {
   "cell_type": "code",
   "execution_count": 8,
   "metadata": {},
   "outputs": [
    {
     "name": "stdout",
     "output_type": "stream",
     "text": [
      "Loaded pretrained model llama-7b-hf into HookedTransformer\n"
     ]
    }
   ],
   "source": [
    "# create a hooked transformer\n",
    "model = HookedTransformer.from_pretrained(\"llama-7b-hf\", \n",
    "                                          hf_model=org_model.to(\"cpu\"),\n",
    "                                          fold_ln=False, \n",
    "                                          center_writing_weights=False, \n",
    "                                          center_unembed=False, \n",
    "                                          tokenizer=tokenizer,\n",
    "                                          default_padding_side=padding_side,\n",
    "                                          dtype=dtype)\n",
    "\n",
    "model.tokenizer.padding_side = padding_side\n",
    "model.tokenizer.pad_token = tokenizer.eos_token"
   ]
  },
  {
   "cell_type": "code",
   "execution_count": 9,
   "metadata": {},
   "outputs": [],
   "source": [
    "org_model = org_model.to(device, dtype=dtype)"
   ]
  },
  {
   "cell_type": "markdown",
   "metadata": {},
   "source": [
    "# Sanity checks\n",
    "\n",
    "I ran into some issues while trying to figure out activation addition as the results did not match the results I had gotten with other approaches (custom wrapping module and pytorch hooks), so I decided to run some sanity checks on the HookedTransformer."
   ]
  },
  {
   "cell_type": "markdown",
   "metadata": {},
   "source": [
    "### Difference in tokenizer"
   ]
  },
  {
   "cell_type": "code",
   "execution_count": 10,
   "metadata": {},
   "outputs": [
    {
     "name": "stdout",
     "output_type": "stream",
     "text": [
      "diff in ids: tensor(0., device='cuda:0')\n",
      "diff in attention mask: tensor(0., device='cuda:0')\n"
     ]
    }
   ],
   "source": [
    "# compare tokenizers\n",
    "test_sentences = [\"The quick brown fox jumps over the lazy dog\",\n",
    "                  \"this is another sentence\",\n",
    "                  \"and a third one\",\n",
    "                  \" some nonsense: sFglk 1   ,.<<< 2lkaAASX#sdfk %js 23 kasdg \"]\n",
    "                \n",
    "                \n",
    "org_ids = tokenizer(test_sentences, return_tensors=\"pt\", padding=True).to(device)\n",
    "ids = model.tokenizer(test_sentences, return_tensors=\"pt\", padding=True).to(device)\n",
    "\n",
    "print(\"diff in ids:\", (org_ids.input_ids - ids.input_ids).float().pow(2).mean())\n",
    "print(\"diff in attention mask:\", (org_ids.attention_mask - ids.attention_mask).float().pow(2).mean())"
   ]
  },
  {
   "cell_type": "markdown",
   "metadata": {},
   "source": [
    "### Difference in model output with and without padding being relevant\n",
    "\n",
    "I get large differences between original and hooked model when using padding.\n",
    "\n",
    "If I iterate through sentences the difference in logits is smaller but still significant.\n",
    "When I switch to `dtype=float32` the second issue disappears but differences when using padding is still high.\n",
    "\n",
    "So there is definitely sth wrong with the padding and probably sth wrong with the precision? I get similar results, for left and right padding."
   ]
  },
  {
   "cell_type": "code",
   "execution_count": 11,
   "metadata": {},
   "outputs": [
    {
     "name": "stdout",
     "output_type": "stream",
     "text": [
      "diff in logits when padding: 0.05034\n",
      "diff in logits no padding: 0.001097\n"
     ]
    }
   ],
   "source": [
    "# compare tokenizers\n",
    "test_sentences = [\"The quick brown fox jumps over the lazy dog\",\n",
    "                  \"this is another sentence\",\n",
    "                  \"and a third one\",\n",
    "                  \" some nonsense: sFglk 1   ,.<<< 2lkaAASX#sdfk %js 23 kasdg \"]\n",
    "\n",
    "\n",
    "# compare model outputs\n",
    "org_model.eval()\n",
    "model.eval()\n",
    "ids = tokenizer(test_sentences, return_tensors=\"pt\", padding=True).to(device)\n",
    "\n",
    "with torch.no_grad():\n",
    "    org_output = org_model(ids[\"input_ids\"], attention_mask=ids[\"attention_mask\"])\n",
    "    output = model(ids[\"input_ids\"], attention_mask=ids[\"attention_mask\"], return_type=\"logits\")\n",
    "\n",
    "print(\"diff in logits when padding: {:.4g}\".format((org_output.logits - output).pow(2).mean()))\n",
    "\n",
    "# is this difference due to the padding?\n",
    "diff = 0\n",
    "\n",
    "for i in range(len(test_sentences)):\n",
    "\n",
    "    single_id = tokenizer(test_sentences[i], return_tensors=\"pt\").to(device)\n",
    "\n",
    "    with torch.no_grad():\n",
    "        org_output = org_model(single_id[\"input_ids\"])\n",
    "        output = model(single_id[\"input_ids\"], return_type=\"logits\")\n",
    "\n",
    "    diff += (org_output.logits - output).pow(2).mean()\n",
    "\n",
    "print(\"diff in logits no padding: {:.4g}\".format(diff.item() / len(test_sentences)))"
   ]
  },
  {
   "cell_type": "markdown",
   "metadata": {},
   "source": [
    "### compare hidden states layerwise"
   ]
  },
  {
   "cell_type": "code",
   "execution_count": 12,
   "metadata": {},
   "outputs": [],
   "source": [
    "test_sentence = \"The quick brown fox jumps over the lazy dog\"\n",
    "\n",
    "org_model.eval()\n",
    "with torch.no_grad():\n",
    "    inputs = tokenizer(test_sentence, return_tensors=\"pt\").to(device)\n",
    "    org_hidden_states = org_model(inputs[\"input_ids\"], output_hidden_states=True)[\"hidden_states\"]"
   ]
  },
  {
   "cell_type": "code",
   "execution_count": 13,
   "metadata": {},
   "outputs": [],
   "source": [
    "model.eval()\n",
    "with torch.no_grad():\n",
    "    inputs = tokenizer(test_sentence, return_tensors=\"pt\").to(device)\n",
    "    _, cache_tl = model.run_with_cache(inputs[\"input_ids\"])"
   ]
  },
  {
   "cell_type": "code",
   "execution_count": 16,
   "metadata": {},
   "outputs": [
    {
     "name": "stdout",
     "output_type": "stream",
     "text": [
      "0: 5.635e-08, 1: 2.794e-07, 2: 7.525e-07, 3: 1.565e-06, 4: 3.546e-06, 5: 5.245e-06, 6: 7.629e-06, 7: 1.276e-05, 8: 1.729e-05, 9: 2.205e-05, 10: 2.742e-05, 11: 3.481e-05, 12: 4.053e-05, 13: 4.673e-05, 14: 5.317e-05, 15: 6.437e-05, 16: 8.392e-05, 17: 0.0001078, 18: 0.0001392, 19: 0.0001783, 20: 0.0002384, 21: 0.0002956, 22: 0.0003586, 23: 0.0004368, 24: 0.0005264, 25: 0.0006409, 26: 0.0007782, 27: 0.0009232, 28: 0.001137, 29: 0.001404, 30: 0.001793, 31: 9.5\n"
     ]
    },
    {
     "data": {
      "image/png": "[encoded data removed]",
      "text/plain": [
       "<Figure size 640x480 with 1 Axes>"
      ]
     },
     "metadata": {},
     "output_type": "display_data"
    }
   ],
   "source": [
    "diffs = torch.zeros(len(org_hidden_states)-1)\n",
    "\n",
    "for layer_id in range(len(org_hidden_states)-1):\n",
    "    cache_name = f\"blocks.{layer_id}.hook_resid_post\"\n",
    "    diffs[layer_id] = (org_hidden_states[layer_id+1] - cache_tl[cache_name]).pow(2).mean().item()\n",
    "\n",
    "# print diffs with 4 significant digits\n",
    "print(', '.join(\"{}: {:.4g}\".format(i,value) for i, value in enumerate(diffs)))\n",
    "\n",
    "# plot the differences in log scale\n",
    "import matplotlib.pyplot as plt\n",
    "plt.plot(diffs)\n",
    "plt.yscale(\"log\")\n",
    "plt.grid()\n"
   ]
  },
  {
   "cell_type": "markdown",
   "metadata": {},
   "source": [
    "# Accessing and modifying internal model activations\n",
    "\n",
    "### Access hidden activations\n",
    "\n",
    "We can access hidden activations of the residual streem by passing the `output_hidden_states` keyword. But if we want other hidden states we need some way to hook into the other transformer layers.  "
   ]
  },
  {
   "cell_type": "code",
   "execution_count": 17,
   "metadata": {},
   "outputs": [
    {
     "name": "stdout",
     "output_type": "stream",
     "text": [
      "odict_keys(['logits', 'past_key_values', 'hidden_states'])\n"
     ]
    }
   ],
   "source": [
    "test_sentence = \"The quick brown fox jumps over the lazy dog\"\n",
    "\n",
    "org_model.eval()\n",
    "with torch.no_grad():\n",
    "    inputs = tokenizer(test_sentence, return_tensors=\"pt\").to(device)\n",
    "    output = org_model(**inputs, output_hidden_states=True)\n",
    "    print(output.keys())"
   ]
  },
  {
   "cell_type": "code",
   "execution_count": 18,
   "metadata": {},
   "outputs": [
    {
     "name": "stdout",
     "output_type": "stream",
     "text": [
      "len hidden states: 33\n",
      "shape of hidden states: torch.Size([1, 12, 4096])\n"
     ]
    }
   ],
   "source": [
    "print(f\"len hidden states: {len(output.hidden_states)}\")\n",
    "print(f\"shape of hidden states: {output.hidden_states[0].shape}\")"
   ]
  },
  {
   "cell_type": "code",
   "execution_count": 19,
   "metadata": {},
   "outputs": [],
   "source": [
    "# the residual layer output of layer layer_id is\n",
    "# output.hidden_states[layer_id + 1] as the first hidden state is the input embedding\n",
    "layer_id = 5\n",
    "hidden_states = output.hidden_states[layer_id + 1]"
   ]
  },
  {
   "cell_type": "code",
   "execution_count": 20,
   "metadata": {},
   "outputs": [],
   "source": [
    "model.eval()\n",
    "with torch.no_grad():\n",
    "    inputs = tokenizer(test_sentence, return_tensors=\"pt\").to(device)\n",
    "    _, cache = model.run_with_cache(inputs[\"input_ids\"], attention_mask=inputs[\"attention_mask\"])"
   ]
  },
  {
   "cell_type": "code",
   "execution_count": 21,
   "metadata": {},
   "outputs": [
    {
     "name": "stdout",
     "output_type": "stream",
     "text": [
      "MSE hidden states: 5.245e-06\n"
     ]
    }
   ],
   "source": [
    "# define what layer/module you want information from\n",
    "cache_name = f\"blocks.{layer_id}.hook_resid_post\"\n",
    "hidden_states_tl = cache[cache_name]\n",
    "\n",
    "# mse between the two hidden states\n",
    "print(f\"MSE hidden states: {(hidden_states - hidden_states_tl).pow(2).mean():.4g}\")"
   ]
  },
  {
   "cell_type": "code",
   "execution_count": 22,
   "metadata": {},
   "outputs": [
    {
     "name": "stdout",
     "output_type": "stream",
     "text": [
      "Available blocks: dict_keys(['hook_embed', 'blocks.0.hook_resid_pre', 'blocks.0.ln1.hook_scale', 'blocks.0.ln1.hook_normalized', 'blocks.0.attn.hook_q', 'blocks.0.attn.hook_k', 'blocks.0.attn.hook_v', 'blocks.0.attn.hook_rot_q', 'blocks.0.attn.hook_rot_k', 'blocks.0.attn.hook_attn_scores', 'blocks.0.attn.hook_pattern', 'blocks.0.attn.hook_z', 'blocks.0.hook_attn_out', 'blocks.0.hook_resid_mid', 'blocks.0.ln2.hook_scale', 'blocks.0.ln2.hook_normalized', 'blocks.0.mlp.hook_pre', 'blocks.0.mlp.hook_pre_linear', 'blocks.0.mlp.hook_post', 'blocks.0.hook_mlp_out', 'blocks.0.hook_resid_post', 'blocks.1.hook_resid_pre', 'blocks.1.ln1.hook_scale', 'blocks.1.ln1.hook_normalized', 'blocks.1.attn.hook_q', 'blocks.1.attn.hook_k', 'blocks.1.attn.hook_v', 'blocks.1.attn.hook_rot_q', 'blocks.1.attn.hook_rot_k', 'blocks.1.attn.hook_attn_scores', 'blocks.1.attn.hook_pattern', 'blocks.1.attn.hook_z', 'blocks.1.hook_attn_out', 'blocks.1.hook_resid_mid', 'blocks.1.ln2.hook_scale', 'blocks.1.ln2.hook_normalized', 'blocks.1.mlp.hook_pre', 'blocks.1.mlp.hook_pre_linear', 'blocks.1.mlp.hook_post', 'blocks.1.hook_mlp_out', 'blocks.1.hook_resid_post', 'blocks.2.hook_resid_pre', 'blocks.2.ln1.hook_scale', 'blocks.2.ln1.hook_normalized', 'blocks.2.attn.hook_q', 'blocks.2.attn.hook_k', 'blocks.2.attn.hook_v', 'blocks.2.attn.hook_rot_q', 'blocks.2.attn.hook_rot_k', 'blocks.2.attn.hook_attn_scores', 'blocks.2.attn.hook_pattern', 'blocks.2.attn.hook_z', 'blocks.2.hook_attn_out', 'blocks.2.hook_resid_mid', 'blocks.2.ln2.hook_scale', 'blocks.2.ln2.hook_normalized', 'blocks.2.mlp.hook_pre', 'blocks.2.mlp.hook_pre_linear', 'blocks.2.mlp.hook_post', 'blocks.2.hook_mlp_out', 'blocks.2.hook_resid_post', 'blocks.3.hook_resid_pre', 'blocks.3.ln1.hook_scale', 'blocks.3.ln1.hook_normalized', 'blocks.3.attn.hook_q', 'blocks.3.attn.hook_k', 'blocks.3.attn.hook_v', 'blocks.3.attn.hook_rot_q', 'blocks.3.attn.hook_rot_k', 'blocks.3.attn.hook_attn_scores', 'blocks.3.attn.hook_pattern', 'blocks.3.attn.hook_z', 'blocks.3.hook_attn_out', 'blocks.3.hook_resid_mid', 'blocks.3.ln2.hook_scale', 'blocks.3.ln2.hook_normalized', 'blocks.3.mlp.hook_pre', 'blocks.3.mlp.hook_pre_linear', 'blocks.3.mlp.hook_post', 'blocks.3.hook_mlp_out', 'blocks.3.hook_resid_post', 'blocks.4.hook_resid_pre', 'blocks.4.ln1.hook_scale', 'blocks.4.ln1.hook_normalized', 'blocks.4.attn.hook_q', 'blocks.4.attn.hook_k', 'blocks.4.attn.hook_v', 'blocks.4.attn.hook_rot_q', 'blocks.4.attn.hook_rot_k', 'blocks.4.attn.hook_attn_scores', 'blocks.4.attn.hook_pattern', 'blocks.4.attn.hook_z', 'blocks.4.hook_attn_out', 'blocks.4.hook_resid_mid', 'blocks.4.ln2.hook_scale', 'blocks.4.ln2.hook_normalized', 'blocks.4.mlp.hook_pre', 'blocks.4.mlp.hook_pre_linear', 'blocks.4.mlp.hook_post', 'blocks.4.hook_mlp_out', 'blocks.4.hook_resid_post', 'blocks.5.hook_resid_pre', 'blocks.5.ln1.hook_scale', 'blocks.5.ln1.hook_normalized', 'blocks.5.attn.hook_q', 'blocks.5.attn.hook_k', 'blocks.5.attn.hook_v', 'blocks.5.attn.hook_rot_q', 'blocks.5.attn.hook_rot_k', 'blocks.5.attn.hook_attn_scores', 'blocks.5.attn.hook_pattern', 'blocks.5.attn.hook_z', 'blocks.5.hook_attn_out', 'blocks.5.hook_resid_mid', 'blocks.5.ln2.hook_scale', 'blocks.5.ln2.hook_normalized', 'blocks.5.mlp.hook_pre', 'blocks.5.mlp.hook_pre_linear', 'blocks.5.mlp.hook_post', 'blocks.5.hook_mlp_out', 'blocks.5.hook_resid_post', 'blocks.6.hook_resid_pre', 'blocks.6.ln1.hook_scale', 'blocks.6.ln1.hook_normalized', 'blocks.6.attn.hook_q', 'blocks.6.attn.hook_k', 'blocks.6.attn.hook_v', 'blocks.6.attn.hook_rot_q', 'blocks.6.attn.hook_rot_k', 'blocks.6.attn.hook_attn_scores', 'blocks.6.attn.hook_pattern', 'blocks.6.attn.hook_z', 'blocks.6.hook_attn_out', 'blocks.6.hook_resid_mid', 'blocks.6.ln2.hook_scale', 'blocks.6.ln2.hook_normalized', 'blocks.6.mlp.hook_pre', 'blocks.6.mlp.hook_pre_linear', 'blocks.6.mlp.hook_post', 'blocks.6.hook_mlp_out', 'blocks.6.hook_resid_post', 'blocks.7.hook_resid_pre', 'blocks.7.ln1.hook_scale', 'blocks.7.ln1.hook_normalized', 'blocks.7.attn.hook_q', 'blocks.7.attn.hook_k', 'blocks.7.attn.hook_v', 'blocks.7.attn.hook_rot_q', 'blocks.7.attn.hook_rot_k', 'blocks.7.attn.hook_attn_scores', 'blocks.7.attn.hook_pattern', 'blocks.7.attn.hook_z', 'blocks.7.hook_attn_out', 'blocks.7.hook_resid_mid', 'blocks.7.ln2.hook_scale', 'blocks.7.ln2.hook_normalized', 'blocks.7.mlp.hook_pre', 'blocks.7.mlp.hook_pre_linear', 'blocks.7.mlp.hook_post', 'blocks.7.hook_mlp_out', 'blocks.7.hook_resid_post', 'blocks.8.hook_resid_pre', 'blocks.8.ln1.hook_scale', 'blocks.8.ln1.hook_normalized', 'blocks.8.attn.hook_q', 'blocks.8.attn.hook_k', 'blocks.8.attn.hook_v', 'blocks.8.attn.hook_rot_q', 'blocks.8.attn.hook_rot_k', 'blocks.8.attn.hook_attn_scores', 'blocks.8.attn.hook_pattern', 'blocks.8.attn.hook_z', 'blocks.8.hook_attn_out', 'blocks.8.hook_resid_mid', 'blocks.8.ln2.hook_scale', 'blocks.8.ln2.hook_normalized', 'blocks.8.mlp.hook_pre', 'blocks.8.mlp.hook_pre_linear', 'blocks.8.mlp.hook_post', 'blocks.8.hook_mlp_out', 'blocks.8.hook_resid_post', 'blocks.9.hook_resid_pre', 'blocks.9.ln1.hook_scale', 'blocks.9.ln1.hook_normalized', 'blocks.9.attn.hook_q', 'blocks.9.attn.hook_k', 'blocks.9.attn.hook_v', 'blocks.9.attn.hook_rot_q', 'blocks.9.attn.hook_rot_k', 'blocks.9.attn.hook_attn_scores', 'blocks.9.attn.hook_pattern', 'blocks.9.attn.hook_z', 'blocks.9.hook_attn_out', 'blocks.9.hook_resid_mid', 'blocks.9.ln2.hook_scale', 'blocks.9.ln2.hook_normalized', 'blocks.9.mlp.hook_pre', 'blocks.9.mlp.hook_pre_linear', 'blocks.9.mlp.hook_post', 'blocks.9.hook_mlp_out', 'blocks.9.hook_resid_post', 'blocks.10.hook_resid_pre', 'blocks.10.ln1.hook_scale', 'blocks.10.ln1.hook_normalized', 'blocks.10.attn.hook_q', 'blocks.10.attn.hook_k', 'blocks.10.attn.hook_v', 'blocks.10.attn.hook_rot_q', 'blocks.10.attn.hook_rot_k', 'blocks.10.attn.hook_attn_scores', 'blocks.10.attn.hook_pattern', 'blocks.10.attn.hook_z', 'blocks.10.hook_attn_out', 'blocks.10.hook_resid_mid', 'blocks.10.ln2.hook_scale', 'blocks.10.ln2.hook_normalized', 'blocks.10.mlp.hook_pre', 'blocks.10.mlp.hook_pre_linear', 'blocks.10.mlp.hook_post', 'blocks.10.hook_mlp_out', 'blocks.10.hook_resid_post', 'blocks.11.hook_resid_pre', 'blocks.11.ln1.hook_scale', 'blocks.11.ln1.hook_normalized', 'blocks.11.attn.hook_q', 'blocks.11.attn.hook_k', 'blocks.11.attn.hook_v', 'blocks.11.attn.hook_rot_q', 'blocks.11.attn.hook_rot_k', 'blocks.11.attn.hook_attn_scores', 'blocks.11.attn.hook_pattern', 'blocks.11.attn.hook_z', 'blocks.11.hook_attn_out', 'blocks.11.hook_resid_mid', 'blocks.11.ln2.hook_scale', 'blocks.11.ln2.hook_normalized', 'blocks.11.mlp.hook_pre', 'blocks.11.mlp.hook_pre_linear', 'blocks.11.mlp.hook_post', 'blocks.11.hook_mlp_out', 'blocks.11.hook_resid_post', 'blocks.12.hook_resid_pre', 'blocks.12.ln1.hook_scale', 'blocks.12.ln1.hook_normalized', 'blocks.12.attn.hook_q', 'blocks.12.attn.hook_k', 'blocks.12.attn.hook_v', 'blocks.12.attn.hook_rot_q', 'blocks.12.attn.hook_rot_k', 'blocks.12.attn.hook_attn_scores', 'blocks.12.attn.hook_pattern', 'blocks.12.attn.hook_z', 'blocks.12.hook_attn_out', 'blocks.12.hook_resid_mid', 'blocks.12.ln2.hook_scale', 'blocks.12.ln2.hook_normalized', 'blocks.12.mlp.hook_pre', 'blocks.12.mlp.hook_pre_linear', 'blocks.12.mlp.hook_post', 'blocks.12.hook_mlp_out', 'blocks.12.hook_resid_post', 'blocks.13.hook_resid_pre', 'blocks.13.ln1.hook_scale', 'blocks.13.ln1.hook_normalized', 'blocks.13.attn.hook_q', 'blocks.13.attn.hook_k', 'blocks.13.attn.hook_v', 'blocks.13.attn.hook_rot_q', 'blocks.13.attn.hook_rot_k', 'blocks.13.attn.hook_attn_scores', 'blocks.13.attn.hook_pattern', 'blocks.13.attn.hook_z', 'blocks.13.hook_attn_out', 'blocks.13.hook_resid_mid', 'blocks.13.ln2.hook_scale', 'blocks.13.ln2.hook_normalized', 'blocks.13.mlp.hook_pre', 'blocks.13.mlp.hook_pre_linear', 'blocks.13.mlp.hook_post', 'blocks.13.hook_mlp_out', 'blocks.13.hook_resid_post', 'blocks.14.hook_resid_pre', 'blocks.14.ln1.hook_scale', 'blocks.14.ln1.hook_normalized', 'blocks.14.attn.hook_q', 'blocks.14.attn.hook_k', 'blocks.14.attn.hook_v', 'blocks.14.attn.hook_rot_q', 'blocks.14.attn.hook_rot_k', 'blocks.14.attn.hook_attn_scores', 'blocks.14.attn.hook_pattern', 'blocks.14.attn.hook_z', 'blocks.14.hook_attn_out', 'blocks.14.hook_resid_mid', 'blocks.14.ln2.hook_scale', 'blocks.14.ln2.hook_normalized', 'blocks.14.mlp.hook_pre', 'blocks.14.mlp.hook_pre_linear', 'blocks.14.mlp.hook_post', 'blocks.14.hook_mlp_out', 'blocks.14.hook_resid_post', 'blocks.15.hook_resid_pre', 'blocks.15.ln1.hook_scale', 'blocks.15.ln1.hook_normalized', 'blocks.15.attn.hook_q', 'blocks.15.attn.hook_k', 'blocks.15.attn.hook_v', 'blocks.15.attn.hook_rot_q', 'blocks.15.attn.hook_rot_k', 'blocks.15.attn.hook_attn_scores', 'blocks.15.attn.hook_pattern', 'blocks.15.attn.hook_z', 'blocks.15.hook_attn_out', 'blocks.15.hook_resid_mid', 'blocks.15.ln2.hook_scale', 'blocks.15.ln2.hook_normalized', 'blocks.15.mlp.hook_pre', 'blocks.15.mlp.hook_pre_linear', 'blocks.15.mlp.hook_post', 'blocks.15.hook_mlp_out', 'blocks.15.hook_resid_post', 'blocks.16.hook_resid_pre', 'blocks.16.ln1.hook_scale', 'blocks.16.ln1.hook_normalized', 'blocks.16.attn.hook_q', 'blocks.16.attn.hook_k', 'blocks.16.attn.hook_v', 'blocks.16.attn.hook_rot_q', 'blocks.16.attn.hook_rot_k', 'blocks.16.attn.hook_attn_scores', 'blocks.16.attn.hook_pattern', 'blocks.16.attn.hook_z', 'blocks.16.hook_attn_out', 'blocks.16.hook_resid_mid', 'blocks.16.ln2.hook_scale', 'blocks.16.ln2.hook_normalized', 'blocks.16.mlp.hook_pre', 'blocks.16.mlp.hook_pre_linear', 'blocks.16.mlp.hook_post', 'blocks.16.hook_mlp_out', 'blocks.16.hook_resid_post', 'blocks.17.hook_resid_pre', 'blocks.17.ln1.hook_scale', 'blocks.17.ln1.hook_normalized', 'blocks.17.attn.hook_q', 'blocks.17.attn.hook_k', 'blocks.17.attn.hook_v', 'blocks.17.attn.hook_rot_q', 'blocks.17.attn.hook_rot_k', 'blocks.17.attn.hook_attn_scores', 'blocks.17.attn.hook_pattern', 'blocks.17.attn.hook_z', 'blocks.17.hook_attn_out', 'blocks.17.hook_resid_mid', 'blocks.17.ln2.hook_scale', 'blocks.17.ln2.hook_normalized', 'blocks.17.mlp.hook_pre', 'blocks.17.mlp.hook_pre_linear', 'blocks.17.mlp.hook_post', 'blocks.17.hook_mlp_out', 'blocks.17.hook_resid_post', 'blocks.18.hook_resid_pre', 'blocks.18.ln1.hook_scale', 'blocks.18.ln1.hook_normalized', 'blocks.18.attn.hook_q', 'blocks.18.attn.hook_k', 'blocks.18.attn.hook_v', 'blocks.18.attn.hook_rot_q', 'blocks.18.attn.hook_rot_k', 'blocks.18.attn.hook_attn_scores', 'blocks.18.attn.hook_pattern', 'blocks.18.attn.hook_z', 'blocks.18.hook_attn_out', 'blocks.18.hook_resid_mid', 'blocks.18.ln2.hook_scale', 'blocks.18.ln2.hook_normalized', 'blocks.18.mlp.hook_pre', 'blocks.18.mlp.hook_pre_linear', 'blocks.18.mlp.hook_post', 'blocks.18.hook_mlp_out', 'blocks.18.hook_resid_post', 'blocks.19.hook_resid_pre', 'blocks.19.ln1.hook_scale', 'blocks.19.ln1.hook_normalized', 'blocks.19.attn.hook_q', 'blocks.19.attn.hook_k', 'blocks.19.attn.hook_v', 'blocks.19.attn.hook_rot_q', 'blocks.19.attn.hook_rot_k', 'blocks.19.attn.hook_attn_scores', 'blocks.19.attn.hook_pattern', 'blocks.19.attn.hook_z', 'blocks.19.hook_attn_out', 'blocks.19.hook_resid_mid', 'blocks.19.ln2.hook_scale', 'blocks.19.ln2.hook_normalized', 'blocks.19.mlp.hook_pre', 'blocks.19.mlp.hook_pre_linear', 'blocks.19.mlp.hook_post', 'blocks.19.hook_mlp_out', 'blocks.19.hook_resid_post', 'blocks.20.hook_resid_pre', 'blocks.20.ln1.hook_scale', 'blocks.20.ln1.hook_normalized', 'blocks.20.attn.hook_q', 'blocks.20.attn.hook_k', 'blocks.20.attn.hook_v', 'blocks.20.attn.hook_rot_q', 'blocks.20.attn.hook_rot_k', 'blocks.20.attn.hook_attn_scores', 'blocks.20.attn.hook_pattern', 'blocks.20.attn.hook_z', 'blocks.20.hook_attn_out', 'blocks.20.hook_resid_mid', 'blocks.20.ln2.hook_scale', 'blocks.20.ln2.hook_normalized', 'blocks.20.mlp.hook_pre', 'blocks.20.mlp.hook_pre_linear', 'blocks.20.mlp.hook_post', 'blocks.20.hook_mlp_out', 'blocks.20.hook_resid_post', 'blocks.21.hook_resid_pre', 'blocks.21.ln1.hook_scale', 'blocks.21.ln1.hook_normalized', 'blocks.21.attn.hook_q', 'blocks.21.attn.hook_k', 'blocks.21.attn.hook_v', 'blocks.21.attn.hook_rot_q', 'blocks.21.attn.hook_rot_k', 'blocks.21.attn.hook_attn_scores', 'blocks.21.attn.hook_pattern', 'blocks.21.attn.hook_z', 'blocks.21.hook_attn_out', 'blocks.21.hook_resid_mid', 'blocks.21.ln2.hook_scale', 'blocks.21.ln2.hook_normalized', 'blocks.21.mlp.hook_pre', 'blocks.21.mlp.hook_pre_linear', 'blocks.21.mlp.hook_post', 'blocks.21.hook_mlp_out', 'blocks.21.hook_resid_post', 'blocks.22.hook_resid_pre', 'blocks.22.ln1.hook_scale', 'blocks.22.ln1.hook_normalized', 'blocks.22.attn.hook_q', 'blocks.22.attn.hook_k', 'blocks.22.attn.hook_v', 'blocks.22.attn.hook_rot_q', 'blocks.22.attn.hook_rot_k', 'blocks.22.attn.hook_attn_scores', 'blocks.22.attn.hook_pattern', 'blocks.22.attn.hook_z', 'blocks.22.hook_attn_out', 'blocks.22.hook_resid_mid', 'blocks.22.ln2.hook_scale', 'blocks.22.ln2.hook_normalized', 'blocks.22.mlp.hook_pre', 'blocks.22.mlp.hook_pre_linear', 'blocks.22.mlp.hook_post', 'blocks.22.hook_mlp_out', 'blocks.22.hook_resid_post', 'blocks.23.hook_resid_pre', 'blocks.23.ln1.hook_scale', 'blocks.23.ln1.hook_normalized', 'blocks.23.attn.hook_q', 'blocks.23.attn.hook_k', 'blocks.23.attn.hook_v', 'blocks.23.attn.hook_rot_q', 'blocks.23.attn.hook_rot_k', 'blocks.23.attn.hook_attn_scores', 'blocks.23.attn.hook_pattern', 'blocks.23.attn.hook_z', 'blocks.23.hook_attn_out', 'blocks.23.hook_resid_mid', 'blocks.23.ln2.hook_scale', 'blocks.23.ln2.hook_normalized', 'blocks.23.mlp.hook_pre', 'blocks.23.mlp.hook_pre_linear', 'blocks.23.mlp.hook_post', 'blocks.23.hook_mlp_out', 'blocks.23.hook_resid_post', 'blocks.24.hook_resid_pre', 'blocks.24.ln1.hook_scale', 'blocks.24.ln1.hook_normalized', 'blocks.24.attn.hook_q', 'blocks.24.attn.hook_k', 'blocks.24.attn.hook_v', 'blocks.24.attn.hook_rot_q', 'blocks.24.attn.hook_rot_k', 'blocks.24.attn.hook_attn_scores', 'blocks.24.attn.hook_pattern', 'blocks.24.attn.hook_z', 'blocks.24.hook_attn_out', 'blocks.24.hook_resid_mid', 'blocks.24.ln2.hook_scale', 'blocks.24.ln2.hook_normalized', 'blocks.24.mlp.hook_pre', 'blocks.24.mlp.hook_pre_linear', 'blocks.24.mlp.hook_post', 'blocks.24.hook_mlp_out', 'blocks.24.hook_resid_post', 'blocks.25.hook_resid_pre', 'blocks.25.ln1.hook_scale', 'blocks.25.ln1.hook_normalized', 'blocks.25.attn.hook_q', 'blocks.25.attn.hook_k', 'blocks.25.attn.hook_v', 'blocks.25.attn.hook_rot_q', 'blocks.25.attn.hook_rot_k', 'blocks.25.attn.hook_attn_scores', 'blocks.25.attn.hook_pattern', 'blocks.25.attn.hook_z', 'blocks.25.hook_attn_out', 'blocks.25.hook_resid_mid', 'blocks.25.ln2.hook_scale', 'blocks.25.ln2.hook_normalized', 'blocks.25.mlp.hook_pre', 'blocks.25.mlp.hook_pre_linear', 'blocks.25.mlp.hook_post', 'blocks.25.hook_mlp_out', 'blocks.25.hook_resid_post', 'blocks.26.hook_resid_pre', 'blocks.26.ln1.hook_scale', 'blocks.26.ln1.hook_normalized', 'blocks.26.attn.hook_q', 'blocks.26.attn.hook_k', 'blocks.26.attn.hook_v', 'blocks.26.attn.hook_rot_q', 'blocks.26.attn.hook_rot_k', 'blocks.26.attn.hook_attn_scores', 'blocks.26.attn.hook_pattern', 'blocks.26.attn.hook_z', 'blocks.26.hook_attn_out', 'blocks.26.hook_resid_mid', 'blocks.26.ln2.hook_scale', 'blocks.26.ln2.hook_normalized', 'blocks.26.mlp.hook_pre', 'blocks.26.mlp.hook_pre_linear', 'blocks.26.mlp.hook_post', 'blocks.26.hook_mlp_out', 'blocks.26.hook_resid_post', 'blocks.27.hook_resid_pre', 'blocks.27.ln1.hook_scale', 'blocks.27.ln1.hook_normalized', 'blocks.27.attn.hook_q', 'blocks.27.attn.hook_k', 'blocks.27.attn.hook_v', 'blocks.27.attn.hook_rot_q', 'blocks.27.attn.hook_rot_k', 'blocks.27.attn.hook_attn_scores', 'blocks.27.attn.hook_pattern', 'blocks.27.attn.hook_z', 'blocks.27.hook_attn_out', 'blocks.27.hook_resid_mid', 'blocks.27.ln2.hook_scale', 'blocks.27.ln2.hook_normalized', 'blocks.27.mlp.hook_pre', 'blocks.27.mlp.hook_pre_linear', 'blocks.27.mlp.hook_post', 'blocks.27.hook_mlp_out', 'blocks.27.hook_resid_post', 'blocks.28.hook_resid_pre', 'blocks.28.ln1.hook_scale', 'blocks.28.ln1.hook_normalized', 'blocks.28.attn.hook_q', 'blocks.28.attn.hook_k', 'blocks.28.attn.hook_v', 'blocks.28.attn.hook_rot_q', 'blocks.28.attn.hook_rot_k', 'blocks.28.attn.hook_attn_scores', 'blocks.28.attn.hook_pattern', 'blocks.28.attn.hook_z', 'blocks.28.hook_attn_out', 'blocks.28.hook_resid_mid', 'blocks.28.ln2.hook_scale', 'blocks.28.ln2.hook_normalized', 'blocks.28.mlp.hook_pre', 'blocks.28.mlp.hook_pre_linear', 'blocks.28.mlp.hook_post', 'blocks.28.hook_mlp_out', 'blocks.28.hook_resid_post', 'blocks.29.hook_resid_pre', 'blocks.29.ln1.hook_scale', 'blocks.29.ln1.hook_normalized', 'blocks.29.attn.hook_q', 'blocks.29.attn.hook_k', 'blocks.29.attn.hook_v', 'blocks.29.attn.hook_rot_q', 'blocks.29.attn.hook_rot_k', 'blocks.29.attn.hook_attn_scores', 'blocks.29.attn.hook_pattern', 'blocks.29.attn.hook_z', 'blocks.29.hook_attn_out', 'blocks.29.hook_resid_mid', 'blocks.29.ln2.hook_scale', 'blocks.29.ln2.hook_normalized', 'blocks.29.mlp.hook_pre', 'blocks.29.mlp.hook_pre_linear', 'blocks.29.mlp.hook_post', 'blocks.29.hook_mlp_out', 'blocks.29.hook_resid_post', 'blocks.30.hook_resid_pre', 'blocks.30.ln1.hook_scale', 'blocks.30.ln1.hook_normalized', 'blocks.30.attn.hook_q', 'blocks.30.attn.hook_k', 'blocks.30.attn.hook_v', 'blocks.30.attn.hook_rot_q', 'blocks.30.attn.hook_rot_k', 'blocks.30.attn.hook_attn_scores', 'blocks.30.attn.hook_pattern', 'blocks.30.attn.hook_z', 'blocks.30.hook_attn_out', 'blocks.30.hook_resid_mid', 'blocks.30.ln2.hook_scale', 'blocks.30.ln2.hook_normalized', 'blocks.30.mlp.hook_pre', 'blocks.30.mlp.hook_pre_linear', 'blocks.30.mlp.hook_post', 'blocks.30.hook_mlp_out', 'blocks.30.hook_resid_post', 'blocks.31.hook_resid_pre', 'blocks.31.ln1.hook_scale', 'blocks.31.ln1.hook_normalized', 'blocks.31.attn.hook_q', 'blocks.31.attn.hook_k', 'blocks.31.attn.hook_v', 'blocks.31.attn.hook_rot_q', 'blocks.31.attn.hook_rot_k', 'blocks.31.attn.hook_attn_scores', 'blocks.31.attn.hook_pattern', 'blocks.31.attn.hook_z', 'blocks.31.hook_attn_out', 'blocks.31.hook_resid_mid', 'blocks.31.ln2.hook_scale', 'blocks.31.ln2.hook_normalized', 'blocks.31.mlp.hook_pre', 'blocks.31.mlp.hook_pre_linear', 'blocks.31.mlp.hook_post', 'blocks.31.hook_mlp_out', 'blocks.31.hook_resid_post', 'ln_final.hook_scale', 'ln_final.hook_normalized'])\n"
     ]
    }
   ],
   "source": [
    "# now we can get hidden representations from any block in the transformer\n",
    "print(f\"Available blocks: {cache.keys()}\")"
   ]
  },
  {
   "cell_type": "markdown",
   "metadata": {},
   "source": [
    "## Activation addition\n",
    "\n",
    "Define a direction vector and add it to the internal model activations while generating new model output.\n",
    "\n",
    "From the transformer lense documentation:\n",
    "\n",
    "We do this by adding a hook function to that activation. The hook function maps current_activation_value, hook_point to new_activation_value. As the model is run, it computes that activation as normal, and then the hook function is applied to compute a replacement, and that is substituted in for the activation. The hook function can be an arbitrary Python function, so long as it returns a tensor of the correct shape."
   ]
  },
  {
   "cell_type": "code",
   "execution_count": 23,
   "metadata": {},
   "outputs": [],
   "source": [
    "max_new_tokens = 30\n",
    "random_seed = 0\n",
    "layer_id = 5\n",
    "cache_name = f\"blocks.{layer_id}.hook_resid_post\"\n",
    "token_pos = -1"
   ]
  },
  {
   "cell_type": "code",
   "execution_count": 24,
   "metadata": {},
   "outputs": [
    {
     "name": "stdout",
     "output_type": "stream",
     "text": [
      "shape vec1: torch.Size([1, 2, 4096])\n",
      "shape vec2: torch.Size([1, 3, 4096])\n"
     ]
    }
   ],
   "source": [
    "with torch.no_grad():\n",
    "    vec1 = model.run_with_cache(\"Love\")[1][cache_name] \n",
    "    vec2 = model.run_with_cache(\"Hate\")[1][cache_name] \n",
    "\n",
    "print(f\"shape vec1: {vec1.shape}\")\n",
    "print(f\"shape vec2: {vec2.shape}\")"
   ]
  },
  {
   "cell_type": "code",
   "execution_count": 25,
   "metadata": {},
   "outputs": [
    {
     "name": "stdout",
     "output_type": "stream",
     "text": [
      "MSE activations 'Love': 0\n",
      "MSE activations 'Hate': 0\n"
     ]
    }
   ],
   "source": [
    "# to not use have to store all activations in the cache we can also use hooks to access internal model activations\n",
    "def get_internal_activations(model, inputs, cache_name, token_pos=-1):\n",
    "\n",
    "    activations = torch.zeros((len(inputs), 1, model.cfg.d_model), dtype=model.cfg.dtype, device=model.cfg.device)\n",
    "    def hook_fn(activation, hook):\n",
    "        activations[:,:,:] = activation[:,token_pos,:].unsqueeze(1)\n",
    "\n",
    "    model.eval()\n",
    "    with torch.no_grad():\n",
    "        _ = model.run_with_hooks(inputs,\n",
    "                                 fwd_hooks=[(\n",
    "                                     cache_name, \n",
    "                                     hook_fn)])\n",
    "    \n",
    "    return activations\n",
    "\n",
    "sentences = [\"Love\", \"Hate\"]\n",
    "activations = get_internal_activations(model, sentences, cache_name, token_pos=token_pos)\n",
    "\n",
    "print(f\"MSE activations '{sentences[0]}': {(activations[0, 0] - vec1[0, token_pos]).pow(2).mean():.4g}\")\n",
    "print(f\"MSE activations '{sentences[1]}': {(activations[1, 0] - vec2[0, token_pos]).pow(2).mean():.4g}\")"
   ]
  },
  {
   "cell_type": "code",
   "execution_count": 26,
   "metadata": {},
   "outputs": [
    {
     "name": "stdout",
     "output_type": "stream",
     "text": [
      "shape direction: torch.Size([1, 1, 4096])\n",
      "norm of direction: 16.25\n"
     ]
    }
   ],
   "source": [
    "direction = vec1[:, token_pos] - vec2[:, token_pos]\n",
    "# reshape to (batch_size, 1, hidden_size)\n",
    "direction = direction.unsqueeze(1)\n",
    "print(f\"shape direction: {direction.shape}\")\n",
    "print(f\"norm of direction: {direction.norm(dim=-1).item():.4g}\")"
   ]
  },
  {
   "cell_type": "code",
   "execution_count": 27,
   "metadata": {},
   "outputs": [],
   "source": [
    "# define hook function\n",
    "def act_add_hook(direction):\n",
    "    \n",
    "    def hook_fn(activation, hook):\n",
    "        output = activation + direction\n",
    "        return output\n",
    "\n",
    "    return hook_fn"
   ]
  },
  {
   "cell_type": "code",
   "execution_count": 28,
   "metadata": {},
   "outputs": [
    {
     "name": "stdout",
     "output_type": "stream",
     "text": [
      "difference in logits: 0.3301\n"
     ]
    }
   ],
   "source": [
    "test_sentences = [\"I think dogs are\",\n",
    "                  \"I think cats are\",\n",
    "                  \"When I wake up, I\",\n",
    "                  \"When I go to work, I\",\n",
    "                  \"Today I feel\",\n",
    "                  \"I am\"]\n",
    "\n",
    "with torch.no_grad():\n",
    "    # this only sets the hook temporarily\n",
    "    hooked_output = model.run_with_hooks(\n",
    "        test_sentences,\n",
    "        return_type=\"logits\", \n",
    "        fwd_hooks=[(\n",
    "            cache_name, \n",
    "            act_add_hook(direction)\n",
    "            )]\n",
    "    )\n",
    "\n",
    "    normal_output = model(test_sentences)\n",
    "    print(f\"difference in logits: {((hooked_output - normal_output)**2).mean():.4g}\")"
   ]
  },
  {
   "cell_type": "code",
   "execution_count": 29,
   "metadata": {},
   "outputs": [],
   "source": [
    "def generate(model, test_sentences, max_new_tokens=20, random_seed=0):\n",
    "    torch.random.manual_seed(random_seed)\n",
    "    with torch.no_grad():\n",
    "        torch.random.manual_seed(random_seed)\n",
    "        inputs = model.tokenizer(test_sentences, return_tensors=\"pt\", padding=True).to(model.cfg.device)\n",
    "        # weirdly enough the generate function does not except list of strings...\n",
    "        # so it's either single string or tensor of tokens (batch_size, seq_len)\n",
    "        output_tokens = model.generate(inputs[\"input_ids\"], max_new_tokens=max_new_tokens, verbose=False)\n",
    "        output_sentences = model.tokenizer.batch_decode(output_tokens, skip_special_tokens=True)\n",
    "\n",
    "        return output_sentences"
   ]
  },
  {
   "cell_type": "code",
   "execution_count": 30,
   "metadata": {},
   "outputs": [
    {
     "name": "stdout",
     "output_type": "stream",
     "text": [
      "steering in positive direction:\n",
      "\n",
      "\n",
      "I think dogs are man’s best friends until the actual scent began posting him and my family.\n",
      "------------------------------\n",
      "I think cats are bonded by an einot symmetry\n",
      "The symbolic language of You Should Cat presented me with a special reinforced censorship, Rossi\n",
      "------------------------------\n",
      "When I wake up, I fight back to sleep as I travel back to sleep. Using a travel ad, parents celebrate each other cheating alfas wedded wests marriage\n",
      "------------------------------\n",
      "When I go to work, I always see to Helen,\n",
      "My favourite toys!\n",
      "------------------------------\n",
      "Today I feel excited.\n",
      "Why do I love them so much?\n",
      "Dance lovers as ARADs\n",
      "applicant First Interstate Financial\n",
      "------------------------------\n",
      "I am so so so happy about the posting. I’ve to say to an old comparable to a young lady aged.\n",
      "In 199\n",
      "------------------------------\n"
     ]
    }
   ],
   "source": [
    "model.reset_hooks()\n",
    "model.add_hook(name=cache_name, hook=act_add_hook(direction))\n",
    "\n",
    "output_sentences = generate(model, test_sentences, max_new_tokens=max_new_tokens, random_seed=random_seed)\n",
    "print(f\"steering in positive direction:\\n\\n\")\n",
    "for i in range(len(output_sentences)):\n",
    "    print(f\"{output_sentences[i]}\")\n",
    "    print(\"-\"*30)\n"
   ]
  },
  {
   "cell_type": "code",
   "execution_count": 31,
   "metadata": {},
   "outputs": [
    {
     "name": "stdout",
     "output_type": "stream",
     "text": [
      "steering in negative direction:\n",
      "\n",
      "\n",
      "I think dogs are pretty stupid. And I’m a scaredy cow. As my cohortor be auorum moves behind me and I try to finish for\n",
      "------------------------------\n",
      "I think cats are evil, but I know I can’ them some Internet.\n",
      "My candidate for hate crime & speakspeeispeispee…te\n",
      "------------------------------\n",
      "When I wake up, I fight back at the morn, I’m brutal, hate every man. Like I know the cheater Crime, yeah like him,\n",
      "------------------------------\n",
      "When I go to work, I always see to it that I avoid riding to work exacerbating tail winds. And honestly, I always lie upon each half.\n",
      "------------------------------\n",
      "Today I feel like going out shopping and find them.\n",
      "Yeah, the new as ARP right now because I, can't find the word\n",
      "------------------------------\n",
      "I am so so so sorry about last night. I’ve been sick to an extreme comparable to the past day. I know other guy without my\n",
      "------------------------------\n"
     ]
    }
   ],
   "source": [
    "model.reset_hooks()\n",
    "model.add_hook(name=cache_name, hook=act_add_hook(-direction))\n",
    "\n",
    "output_sentences = generate(model, test_sentences, max_new_tokens=max_new_tokens, random_seed=random_seed)\n",
    "print(f\"steering in negative direction:\\n\\n\")\n",
    "for i in range(len(output_sentences)):\n",
    "    print(f\"{output_sentences[i]}\")\n",
    "    print(\"-\"*30)\n"
   ]
  },
  {
   "cell_type": "code",
   "execution_count": 32,
   "metadata": {},
   "outputs": [
    {
     "name": "stdout",
     "output_type": "stream",
     "text": [
      "no steering:\n",
      "\n",
      "\n",
      "I think dogs are man’s best friends until you take one in a coworking space (when they actually become the bane of my office existence after one slightly\n",
      "------------------------------\n",
      "I think cats are bonded by an einheitscat fysik secret language base. Should we be happy we dont speak that language and dont hold it? Cats\n",
      "------------------------------\n",
      "When I wake up, I fight back to sleep again. When I’m brutally awake, my parents wake me up with music. For some reason, that time\n",
      "------------------------------\n",
      "When I go to work, I always see this thing glowing in the sky early in the morning and later in the day it's really a pretty site to see.\n",
      "\n",
      "------------------------------\n",
      "Today I feel like going out shopping and doing them.\n",
      "Yeah, the new rose gold colour for iPhone 6, 6s and iPhone \n",
      "------------------------------\n",
      "I am so so so sorry about last night. I’ve been sick to my stomach and feel even worse than I did last night. I’\n",
      "------------------------------\n"
     ]
    }
   ],
   "source": [
    "model.reset_hooks()\n",
    "\n",
    "output_sentences = generate(model, test_sentences, max_new_tokens=max_new_tokens, random_seed=random_seed)\n",
    "print(f\"no steering:\\n\\n\")\n",
    "for i in range(len(output_sentences)):\n",
    "    print(f\"{output_sentences[i]}\")\n",
    "    print(\"-\"*30)"
   ]
  },
  {
   "cell_type": "code",
   "execution_count": null,
   "metadata": {},
   "outputs": [],
   "source": []
  }
 ],
 "metadata": {
  "kernelspec": {
   "display_name": "Python 3 (ipykernel)",
   "language": "python",
   "name": "python3"
  },
  "language_info": {
   "codemirror_mode": {
    "name": "ipython",
    "version": 3
   },
   "file_extension": ".py",
   "mimetype": "text/x-python",
   "name": "python",
   "nbconvert_exporter": "python",
   "pygments_lexer": "ipython3",
   "version": "3.10.12"
  },
  "orig_nbformat": 4
 },
 "nbformat": 4,
 "nbformat_minor": 2
}
